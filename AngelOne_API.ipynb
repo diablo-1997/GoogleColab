{
  "nbformat": 4,
  "nbformat_minor": 0,
  "metadata": {
    "colab": {
      "provenance": [],
      "include_colab_link": true
    },
    "kernelspec": {
      "name": "python3",
      "display_name": "Python 3"
    },
    "language_info": {
      "name": "python"
    }
  },
  "cells": [
    {
      "cell_type": "markdown",
      "metadata": {
        "id": "view-in-github",
        "colab_type": "text"
      },
      "source": [
        "<a href=\"https://colab.research.google.com/github/diablo-1997/GoogleColab/blob/main/AngelOne_API.ipynb\" target=\"_parent\"><img src=\"https://colab.research.google.com/assets/colab-badge.svg\" alt=\"Open In Colab\"/></a>"
      ]
    },
    {
      "cell_type": "markdown",
      "source": [
        "Origianl API call from AngelOne.\n",
        "```python\n",
        "# Define the URL and payload\n",
        "url = \"https://www.angelone.in/wp-json/facetwp/v1/refresh\"\n",
        "payload = {\n",
        "    \"action\": \"facetwp_refresh\",\n",
        "    \"data\": {\n",
        "        \"facets\": {\n",
        "            \"stock_search_by_alphabet\": [],\n",
        "            \"stock_universe\": [],\n",
        "            \"stock_sector\": [],\n",
        "            \"stock_market_cap_by_value\": [],\n",
        "            \"stock_market_cap_by_size\": [],\n",
        "            \"stock_result_count_pager\": [],\n",
        "            \"stock_archive_per_page_pager\": [],\n",
        "            \"stock_pagination\": []\n",
        "        },\n",
        "        \"frozen_facets\": {},\n",
        "        \"http_params\": {\n",
        "            \"get\": {},\n",
        "            \"uri\": \"stocks\",\n",
        "            \"url_vars\": []\n",
        "        },\n",
        "        \"template\": \"stock_archive_data\",\n",
        "        \"extras\": {\n",
        "            \"per_page\": 100,\n",
        "            \"selections\": True,\n",
        "            \"sort\": \"default\"\n",
        "        },\n",
        "        \"soft_refresh\": 0,\n",
        "        \"is_bfcache\": 1,\n",
        "        \"first_load\": 0,\n",
        "        \"paged\": 1\n",
        "    }\n",
        "}\n",
        "\n",
        "# Send the POST request\n",
        "response = requests.post(url, json=payload)\n",
        "\n",
        "# Check the response status code\n",
        "if response.status_code == 200:\n",
        "  # Request successful!\n",
        "  print(\"Request successful! Response:\", response.text)\n",
        "else:\n",
        "  # There was an error\n",
        "  print(\"Error:\", response.status_code, response.text)\n",
        "```"
      ],
      "metadata": {
        "id": "G5fO5u7K_rlB"
      }
    },
    {
      "cell_type": "code",
      "source": [
        "import json\n",
        "import requests\n",
        "from bs4 import BeautifulSoup\n",
        "from openpyxl import Workbook\n"
      ],
      "metadata": {
        "id": "Rlpkvc66BFtt"
      },
      "execution_count": null,
      "outputs": []
    },
    {
      "cell_type": "code",
      "source": [
        "BASE_URL = \"https://www.angelone.in/\"\n",
        "MAIN_ROOT = \"wp-json/facetwp/v1/refresh\"\n"
      ],
      "metadata": {
        "id": "zXsYLmXiKJ4h"
      },
      "execution_count": null,
      "outputs": []
    },
    {
      "cell_type": "code",
      "source": [
        "def api(payload, base_url=BASE_URL, root=MAIN_ROOT):\n",
        "  url = base_url + root\n",
        "\n",
        "  try:\n",
        "    response = requests.post(url, json=payload)\n",
        "    response.raise_for_status()  # Raise exception for unsuccessful requests (improves error handling)\n",
        "  except requests.exceptions.RequestException as e:\n",
        "    return {\"Error\": f\"Error sending request: {e}\"}\n",
        "\n",
        "  return response.json()\n"
      ],
      "metadata": {
        "collapsed": true,
        "id": "rx40SZh3oaPm"
      },
      "execution_count": null,
      "outputs": []
    },
    {
      "cell_type": "code",
      "source": [
        "def fetch_stock_sectors():\n",
        "  \"\"\"\n",
        "  Fetches stock sectors from Angel Broking website.\n",
        "\n",
        "  Returns:\n",
        "      dict: Dictionary containing stock sector names as keys and data-values as values.\n",
        "          If there's an error, returns a dictionary with error details.\n",
        "  \"\"\"\n",
        "  payload = {\n",
        "      \"action\": \"facetwp_refresh\",\n",
        "      \"data\": {\n",
        "          \"facets\": {\"stock_sector\": []},\n",
        "          \"template\": \"stock_archive_data\",\n",
        "      }\n",
        "  }\n",
        "\n",
        "  data = api(payload)\n",
        "  sector_html = data.get(\"facets\", {}).get(\"stock_sector\", \"\")\n",
        "\n",
        "  soup = BeautifulSoup(sector_html, 'html.parser')\n",
        "  sectors = dict()\n",
        "  for sector in soup.find_all('div', class_='facetwp-radio'):\n",
        "    data_value = sector.get('data-value')\n",
        "    if data_value:\n",
        "      sector_text = sector.find(\"span\", class_=\"facetwp-display-value\").text.strip()\n",
        "      sectors[sector_text] = data_value\n",
        "\n",
        "  return sectors\n",
        "\n",
        "\n",
        "# Example usage\n",
        "# fetch_stock_sectors()"
      ],
      "metadata": {
        "collapsed": true,
        "id": "dsAFyiXPMpZy"
      },
      "execution_count": null,
      "outputs": []
    },
    {
      "cell_type": "code",
      "source": [
        "def fetch_company_names(stock_sector):\n",
        "    payload = {\n",
        "        \"action\": \"facetwp_refresh\",\n",
        "        \"data\": {\n",
        "            \"facets\": {\"stock_sector\": [stock_sector],},\n",
        "            \"http_params\": {\n",
        "                \"get\": {\"_stock_sector\": stock_sector},\n",
        "                \"uri\": \"stocks\",\n",
        "                \"url_vars\": []\n",
        "            },\n",
        "            \"template\": \"stock_archive_data\",\n",
        "            \"extras\": {\n",
        "                \"per_page\": \"1000\",\n",
        "                \"selections\": True,\n",
        "                \"sort\": \"default\"\n",
        "            },\n",
        "            \"paged\": 1,\n",
        "        }\n",
        "    }\n",
        "\n",
        "    data = {}\n",
        "\n",
        "    template_html = api(payload).get(\"template\", \"\")\n",
        "    soup = BeautifulSoup(template_html, 'html.parser')\n",
        "\n",
        "    tbody = soup.find('tbody')\n",
        "    tr = tbody.find_all('tr')\n",
        "\n",
        "    for r in tr:\n",
        "      data[r.find(\"p\", attrs={\"class\": \"company-short-name\"}).text.strip()] = r.find(\"p\", attrs={\"class\": \"company-name\"}).text.strip()\n",
        "\n",
        "    return data\n",
        "\n",
        "\n",
        "# Example usage\n",
        "# fetch_company_names(\"logistics\")\n"
      ],
      "metadata": {
        "id": "dfm_nDCGKsFx"
      },
      "execution_count": null,
      "outputs": []
    },
    {
      "cell_type": "code",
      "source": [
        "def write_sector_data_to_excel(workbook, sectors):\n",
        "  \"\"\"\n",
        "  Writes sector and company data to an Excel workbook.\n",
        "\n",
        "  Args:\n",
        "      workbook: An openpyxl Workbook object.\n",
        "      sectors: A dictionary where keys are sector names and values are lists of companies in that sector.\n",
        "  \"\"\"\n",
        "  worksheet = workbook.active\n",
        "  worksheet.append([\"Sector\", \"Company\"])  # Add header row\n",
        "\n",
        "  for sector, companies in sectors.items():\n",
        "    for company in companies:\n",
        "      worksheet.append([sector, company])\n",
        "\n",
        "\n",
        "def main():\n",
        "  sectors = fetch_stock_sectors()\n",
        "  company_data_by_sector = {str(sector).replace(\"-\", \" \").title(): fetch_company_names(sector) for sector in sectors.values()}\n",
        "\n",
        "  # Create a new workbook and write data\n",
        "  workbook = Workbook()\n",
        "  write_sector_data_to_excel(workbook, company_data_by_sector)\n",
        "  workbook.save(\"frameData.xlsx\")\n"
      ],
      "metadata": {
        "id": "dAcSZbfdU8Xq"
      },
      "execution_count": null,
      "outputs": []
    },
    {
      "cell_type": "code",
      "source": [
        "if __name__ == \"__main__\":\n",
        "    main()"
      ],
      "metadata": {
        "id": "AhH4DoU-2Jnq"
      },
      "execution_count": null,
      "outputs": []
    }
  ]
}