{
  "nbformat": 4,
  "nbformat_minor": 0,
  "metadata": {
    "colab": {
      "provenance": [],
      "authorship_tag": "ABX9TyOscR5q59Yj91jbbhqA74kv",
      "include_colab_link": true
    },
    "kernelspec": {
      "name": "python3",
      "display_name": "Python 3"
    },
    "language_info": {
      "name": "python"
    }
  },
  "cells": [
    {
      "cell_type": "markdown",
      "metadata": {
        "id": "view-in-github",
        "colab_type": "text"
      },
      "source": [
        "<a href=\"https://colab.research.google.com/github/diablo-1997/GoogleColab/blob/main/django_get_started.ipynb\" target=\"_parent\"><img src=\"https://colab.research.google.com/assets/colab-badge.svg\" alt=\"Open In Colab\"/></a>"
      ]
    },
    {
      "cell_type": "code",
      "source": [
        "!pip install djangorestframework pyngrok"
      ],
      "metadata": {
        "id": "yblMZViZgoqR"
      },
      "execution_count": null,
      "outputs": []
    },
    {
      "cell_type": "code",
      "source": [
        "!django-admin startproject mysite"
      ],
      "metadata": {
        "id": "HJHAdZ2ugssc"
      },
      "execution_count": null,
      "outputs": []
    },
    {
      "cell_type": "code",
      "source": [
        "%cd mysite"
      ],
      "metadata": {
        "id": "TdXMTGwGg3M-"
      },
      "execution_count": null,
      "outputs": []
    },
    {
      "cell_type": "code",
      "source": [
        "!python manage.py startapp polls"
      ],
      "metadata": {
        "id": "VQqb92pRlVql"
      },
      "execution_count": null,
      "outputs": []
    },
    {
      "cell_type": "markdown",
      "source": [
        "**Update `ALLOWED_HOSTS`, `CSRF_TRUSTED_ORIGINS`, and `INSTALLED_APPS` in your Django settings:**\n",
        "```python\n",
        "# mysite/settings.py\n",
        "ALLOWED_HOSTS = ['*']  # Add \"*\" will allow all hosts\n",
        "CSRF_TRUSTED_ORIGINS = ['link_generated_by_ngrok']  # Needs updating everytime server restarts\n",
        "INSTALLED_APPS = [\n",
        "  # ...other installed apps\n",
        "  'polls',\n",
        "]\n",
        "```\n",
        "**Modify** `polls/models.py` at this point *(if needed!).*"
      ],
      "metadata": {
        "id": "Da4krPnmjoRF"
      }
    },
    {
      "cell_type": "code",
      "source": [
        "!python manage.py makemigrations\n",
        "!python manage.py migrate\n"
      ],
      "metadata": {
        "id": "UbcmAmutnJWI"
      },
      "execution_count": null,
      "outputs": []
    },
    {
      "cell_type": "code",
      "source": [
        "from google.colab import userdata\n",
        "from pyngrok import ngrok\n",
        "\n",
        "ngrok.set_auth_token(userdata.get('ngrok_AUTH_TOKEN'))\n",
        "\n",
        "public_url = ngrok.connect(8000)\n",
        "print(public_url)\n",
        "\n",
        "!python manage.py runserver"
      ],
      "metadata": {
        "id": "PfOvfMeQg5Jf"
      },
      "execution_count": null,
      "outputs": []
    }
  ]
}